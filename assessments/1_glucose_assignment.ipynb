{
 "cells": [
  {
   "cell_type": "markdown",
   "id": "41cf80da",
   "metadata": {},
   "source": [
    "# Time series: glucose study casus\n",
    "\n",
    "author: F.Feenstra \n",
    "\n",
    "### Domain relevance\n",
    "\n",
    "In life sciences, time series analysis is a method used to examine sequential observations of a specific phenomenon or variable recorded at successive time intervals. Essentially, it involves collecting data points over time, forming a chronological sequence that holds valuable information about dynamic biological processes.\n",
    "\n",
    "For instance, consider diabetes care, where the continuous monitoring of glucose levels at regular intervals throughout the day generates a \"glucose time series.\" Similarly, in medical tests such as electrocardiograms (ECG) and electroencephalograms (EEG), the ongoing recording of heart rhythms or brain waves over specific durations constitutes essential time series data.\n",
    "\n",
    "In its essence, the analysis of time series involves examining these ordered data points to reveal patterns, trends, and changes that happen over a period. It is crucial to acknowledge the biological dynamics contributing to these temporal fluctuations. By measuring signals, such as glucose measurements over time, scientists and doctors gain insight about the complex workings of biological processes. This, in turn, facilitates more precise diagnoses, enables adjustments in treatment strategies, and deepens our understanding of diverse physiological phenomena. The ability to comprehend and interpret time-dependent patterns empowers researchers and practitioners in life sciences to make informed decisions, enhance medical care and contributing to the broader knowledge base of biological systems.\n",
    "\n",
    "The coming two weeks we use glucose data of a subject to learn about time series analysis. We will gain more insights about the glucose level stability of the subject and potential risks. \n",
    "\n",
    "\n",
    "### About the data\n",
    "The datafile we will work with is called `glucose.csv`. [1] It contains data of a subject which is measured continues by means of a sensor, a FreeStyle LibreLink device. The file contains several record types. We are interested in the recordtype that measures the continues glucose values in mmol/L. Furthermore the recordtype that is used for calibration can be used to disgard records of low or uncertain quality.\n",
    "\n",
    "Metadata description:\n",
    "\n",
    "- ID of the row.\n",
    "- Date and time that indicates when the record was taken.\n",
    "- Type of register. The type of registers can take the following values:\n",
    "    0: automatic glucose value register, saved each 15 minutes by the device.\n",
    "    1: manual blood glucose value register, saved in the record after a read by the patient (for calibration purpose)\n",
    "    2: register of insulin without a numeric value.\n",
    "    3: register of carbohydrates without a numeric value.\n",
    "    4: register of insulin done with a numeric value.\n",
    "    5: register of carbohydrates with a numeric value.\n",
    "- Blood glucose value in rows with register type 0 (mg/dl).\n",
    "- Blood glucose value in rows with register type 1 (mg/dl).\n",
    "- Rapid insulin register without a numeric value in rows with register type 2.\n",
    "- Carbohydrates without a numeric value in rows with register type 3.\n",
    "- Units of rapid insulin entered by the patient in rows with register type 4.\n",
    "- Units of carbohydrates entered by the patient in rows with register type 5.\n",
    "\n",
    "The data can be found at `assemblix2019:/data/datasets/Programming/glucose.csv`\n",
    "\n",
    "### Learning outcomes\n",
    "- Apply Python proficiently to clean and structure raw signal data, ensuring it is in a format conducive to analysis\n",
    "- Develop a maintainable and effective preprocessing and evaluation pipeline for time series data\n",
    "- Critically assess trade-offs inherent in different preprocessing strategies, providing insightful justifications for the selected approaches\n",
    "- Implement mathematical algorithms in Python to discern and interpret time series patterns\n",
    "- Design and develop visually appealing and functional data visualizations for time series data\n",
    "- Deliver a well-organized solution that not only solves the given problem but also showcases a systematic and structured approach throughout the entire data processing and analysis pipeline\n",
    "\n",
    "\n",
    "### Instructions\n",
    "1. Copy the original data from assemblix to your data directory\n",
    "2. In the first week read part 1 and conduct the data inspections according the part 1 instructions. Enhance and expand your inspection when needed, but make sure you keep a balance between essential analysis and nice to haves. Be prepared to discuss and demonstrate the solution next week's first session.\n",
    "3. In the second week read part 2 and conduct the data exploration according the part 2 instructions. Enhance and expand your inspection when needed, but make sure you keep a balance between essential analysis and nice to haves. Be prepared to discuss and demonstrate the solution in the third week's first session.\n",
    "4. Upload the solution of this study case in a repository and submit the link to the blackboard assignment. Make sure that your repository is private and invite your teachers and tutors. Please submit your work (even unfinished) before the deadline to receive feedback.\n",
    "5. You are welcome to collaborate in small groups, but please ensure that you acknowledge each member's contributions and engage in discussions to collectively assess the outcomes.\n",
    "   \n",
    "[1] Elouafiq, I. Data & Experiments \n",
    "\n"
   ]
  },
  {
   "cell_type": "markdown",
   "id": "d58c7016-55fc-4305-8148-d911380f1c82",
   "metadata": {},
   "source": [
    "---"
   ]
  },
  {
   "cell_type": "markdown",
   "id": "af2964c5-f03c-4634-bfcb-e9d49e499a31",
   "metadata": {},
   "source": [
    "## Part 1 (week 1): Data Inspection and Quality Enhancement\n",
    "\n",
    "In Part 1 your objective is to thoroughly inspect and explore the dataset, addressing key questions and ensuring data quality. First you will inspect your dataset, plot your dataset and then you will make decisions about quality enhancement techniques. A good approach is to create inspections and handling functions, it will be easier to re-run certain inspection analysis and explore effect of chosen strategies. Furthermore you might consider visualisations with hoover and span functions to identify records of interest.\n",
    "\n",
    "### Data inspections\n",
    "You are required to inspect at least the following:\n",
    "- Identify the count of observations and the features recorded in the dataset.\n",
    "- Validate if the data types match expectations for each feature.\n",
    "- Assess which columns contain valuable information and explain their significance.\n",
    "- Identify columns with negligible value and articulate reasons for their exclusion from further analysis.\n",
    "- Investigate the presence of duplicate records and determine potential reasons for duplication.\n",
    "- Inspect differences between calibration measures and sensor data (difference and frequency of measurements)\n",
    "- Calculate the percentage of missing data for each feature.\n",
    "- Explore possibilities for imputing missing data, if feasible.\n",
    "- Check for any time gaps in the dataset that may affect the temporal continuity.\n",
    "\n",
    "### Visual Exploration:\n",
    "- Plot glucose levels over time to visually identify trends, patterns, and cycles.\n",
    "- Look for abnormalities or unexpected fluctuations and identify those records\n",
    " \n",
    "### Decision for Quality Enhancement:\n",
    "Based on the inspection, take the following measures for enhancing dataset quality:\n",
    "- Decide what to do with records that have large differences in sensor and calibration measurement.\n",
    "- Remove duplicate records, ensuring data integrity and avoiding redundancy.\n",
    "- Employ suitable imputation methods for handling missing data, balancing accuracy and robustness.\n",
    "- Exclude columns with minimal value to streamline the dataset and improve focus on relevant information.\n",
    "- Address any time gaps in the dataset and develop a strategy how to handle the gaps.\n",
    "- Develop a strategy for managing abnormal glucose readings, considering whether to remove, transform, or investigate further.\n",
    "\n",
    "### Documentation\n",
    "- Document all decisions made during the inspection and enhancement process, providing transparency and aiding reproducibility. Deliver your solution in a repository with a readme file. \n",
    "\n",
    "By means of the steps above we aim to optimize the dataset's quality, making it more reliable to conduct meaningful analyses.\n",
    "\n",
    "\n"
   ]
  },
  {
   "cell_type": "code",
   "execution_count": 49,
   "id": "fdcda0fa",
   "metadata": {},
   "outputs": [],
   "source": [
    "import pandas as pd\n",
    "import numpy as np\n",
    "import matplotlib.pyplot as plt"
   ]
  },
  {
   "cell_type": "code",
   "execution_count": 1,
   "id": "1dd818c7",
   "metadata": {},
   "outputs": [
    {
     "name": "stdout",
     "output_type": "stream",
     "text": [
      "<class 'pandas.core.frame.DataFrame'>\n",
      "RangeIndex: 7723 entries, 0 to 7722\n",
      "Data columns (total 19 columns):\n",
      " #   Column                             Non-Null Count  Dtype  \n",
      "---  ------                             --------------  -----  \n",
      " 0   Device                             7723 non-null   object \n",
      " 1   Serial Number                      7723 non-null   object \n",
      " 2   Device Timestamp                   7723 non-null   object \n",
      " 3   Record Type                        7723 non-null   int64  \n",
      " 4   Historic Glucose mmol/L            6068 non-null   float64\n",
      " 5   Scan Glucose mmol/L                1251 non-null   float64\n",
      " 6   Non-numeric Rapid-Acting Insulin   0 non-null      float64\n",
      " 7   Rapid-Acting Insulin (units)       0 non-null      float64\n",
      " 8   Non-numeric Food                   6 non-null      float64\n",
      " 9   Carbohydrates (grams)              1 non-null      float64\n",
      " 10  Carbohydrates (servings)           0 non-null      float64\n",
      " 11  Non-numeric Long-Acting Insulin    0 non-null      float64\n",
      " 12  Long-Acting Insulin Value (units)  0 non-null      float64\n",
      " 13  Notes                              22 non-null     object \n",
      " 14  Strip Glucose mmol/L               0 non-null      float64\n",
      " 15  Ketone mmol/L                      0 non-null      float64\n",
      " 16  Meal Insulin (units)               0 non-null      float64\n",
      " 17  Correction Insulin (units)         0 non-null      float64\n",
      " 18  User Change Insulin (units)        0 non-null      float64\n",
      "dtypes: float64(14), int64(1), object(4)\n",
      "memory usage: 1.1+ MB\n"
     ]
    }
   ],
   "source": [
    "path = \"/data/datasets/Programming/glucose.csv\"\n",
    "df = pd.read_csv(path)\n",
    "\n",
    "# - Validate if the data types match expectations for each feature.\n",
    "df.info()\n"
   ]
  },
  {
   "cell_type": "code",
   "execution_count": 2,
   "id": "0f5ec937",
   "metadata": {},
   "outputs": [
    {
     "data": {
      "text/plain": [
       "0    05-12-2019 16:25\n",
       "1    05-12-2019 16:41\n",
       "2    05-12-2019 16:56\n",
       "3    05-12-2019 17:11\n",
       "4    05-12-2019 17:26\n",
       "Name: Device Timestamp, dtype: object"
      ]
     },
     "execution_count": 2,
     "metadata": {},
     "output_type": "execute_result"
    }
   ],
   "source": [
    "df[\"Device Timestamp\"][:5]"
   ]
  },
  {
   "cell_type": "code",
   "execution_count": 3,
   "id": "01af38b9",
   "metadata": {},
   "outputs": [
    {
     "data": {
      "text/plain": [
       "0   2019-12-05 16:25:00\n",
       "1   2019-12-05 16:41:00\n",
       "2   2019-12-05 16:56:00\n",
       "3   2019-12-05 17:11:00\n",
       "4   2019-12-05 17:26:00\n",
       "Name: Device Timestamp, dtype: datetime64[ns]"
      ]
     },
     "execution_count": 3,
     "metadata": {},
     "output_type": "execute_result"
    }
   ],
   "source": [
    "# Change dtype of \"Device Timestamp\"\n",
    "df[\"Device Timestamp\"] = pd.to_datetime(df[\"Device Timestamp\"], format=\"%d-%m-%Y %H:%M\")\n",
    "df[\"Device Timestamp\"][:5]"
   ]
  },
  {
   "cell_type": "code",
   "execution_count": 11,
   "id": "da4fd522",
   "metadata": {},
   "outputs": [
    {
     "data": {
      "text/plain": [
       "[7723, 9]"
      ]
     },
     "execution_count": 11,
     "metadata": {},
     "output_type": "execute_result"
    }
   ],
   "source": [
    "[thing for thing in df.shape]"
   ]
  },
  {
   "cell_type": "code",
   "execution_count": 5,
   "id": "b0a6c1d9",
   "metadata": {},
   "outputs": [
    {
     "name": "stdout",
     "output_type": "stream",
     "text": [
      "count of observations: 7723\n",
      "count of features:     19\n"
     ]
    }
   ],
   "source": [
    "# - Identify the count of observations and the features recorded in the dataset.\n",
    "df.shape\n",
    "\n",
    "print(f\"count of observations: {df.shape[0]}\\ncount of features:     {df.shape[1]}\")"
   ]
  },
  {
   "cell_type": "code",
   "execution_count": 6,
   "id": "ee1e9ade",
   "metadata": {},
   "outputs": [
    {
     "data": {
      "text/html": [
       "<div>\n",
       "<style scoped>\n",
       "    .dataframe tbody tr th:only-of-type {\n",
       "        vertical-align: middle;\n",
       "    }\n",
       "\n",
       "    .dataframe tbody tr th {\n",
       "        vertical-align: top;\n",
       "    }\n",
       "\n",
       "    .dataframe thead th {\n",
       "        text-align: right;\n",
       "    }\n",
       "</style>\n",
       "<table border=\"1\" class=\"dataframe\">\n",
       "  <thead>\n",
       "    <tr style=\"text-align: right;\">\n",
       "      <th></th>\n",
       "      <th>Device</th>\n",
       "      <th>Serial Number</th>\n",
       "      <th>Device Timestamp</th>\n",
       "      <th>Record Type</th>\n",
       "      <th>Historic Glucose mmol/L</th>\n",
       "      <th>Scan Glucose mmol/L</th>\n",
       "      <th>Non-numeric Rapid-Acting Insulin</th>\n",
       "      <th>Rapid-Acting Insulin (units)</th>\n",
       "      <th>Non-numeric Food</th>\n",
       "      <th>Carbohydrates (grams)</th>\n",
       "      <th>Carbohydrates (servings)</th>\n",
       "      <th>Non-numeric Long-Acting Insulin</th>\n",
       "      <th>Long-Acting Insulin Value (units)</th>\n",
       "      <th>Notes</th>\n",
       "      <th>Strip Glucose mmol/L</th>\n",
       "      <th>Ketone mmol/L</th>\n",
       "      <th>Meal Insulin (units)</th>\n",
       "      <th>Correction Insulin (units)</th>\n",
       "      <th>User Change Insulin (units)</th>\n",
       "    </tr>\n",
       "  </thead>\n",
       "  <tbody>\n",
       "    <tr>\n",
       "      <th>0</th>\n",
       "      <td>FreeStyle LibreLink</td>\n",
       "      <td>b59d4499-1a07-462b-b7da-a179f2093996</td>\n",
       "      <td>2019-12-05 16:25:00</td>\n",
       "      <td>0</td>\n",
       "      <td>6.3</td>\n",
       "      <td>NaN</td>\n",
       "      <td>NaN</td>\n",
       "      <td>NaN</td>\n",
       "      <td>NaN</td>\n",
       "      <td>NaN</td>\n",
       "      <td>NaN</td>\n",
       "      <td>NaN</td>\n",
       "      <td>NaN</td>\n",
       "      <td>NaN</td>\n",
       "      <td>NaN</td>\n",
       "      <td>NaN</td>\n",
       "      <td>NaN</td>\n",
       "      <td>NaN</td>\n",
       "      <td>NaN</td>\n",
       "    </tr>\n",
       "    <tr>\n",
       "      <th>1</th>\n",
       "      <td>FreeStyle LibreLink</td>\n",
       "      <td>b59d4499-1a07-462b-b7da-a179f2093996</td>\n",
       "      <td>2019-12-05 16:41:00</td>\n",
       "      <td>0</td>\n",
       "      <td>6.4</td>\n",
       "      <td>NaN</td>\n",
       "      <td>NaN</td>\n",
       "      <td>NaN</td>\n",
       "      <td>NaN</td>\n",
       "      <td>NaN</td>\n",
       "      <td>NaN</td>\n",
       "      <td>NaN</td>\n",
       "      <td>NaN</td>\n",
       "      <td>NaN</td>\n",
       "      <td>NaN</td>\n",
       "      <td>NaN</td>\n",
       "      <td>NaN</td>\n",
       "      <td>NaN</td>\n",
       "      <td>NaN</td>\n",
       "    </tr>\n",
       "    <tr>\n",
       "      <th>2</th>\n",
       "      <td>FreeStyle LibreLink</td>\n",
       "      <td>b59d4499-1a07-462b-b7da-a179f2093996</td>\n",
       "      <td>2019-12-05 16:56:00</td>\n",
       "      <td>0</td>\n",
       "      <td>6.5</td>\n",
       "      <td>NaN</td>\n",
       "      <td>NaN</td>\n",
       "      <td>NaN</td>\n",
       "      <td>NaN</td>\n",
       "      <td>NaN</td>\n",
       "      <td>NaN</td>\n",
       "      <td>NaN</td>\n",
       "      <td>NaN</td>\n",
       "      <td>NaN</td>\n",
       "      <td>NaN</td>\n",
       "      <td>NaN</td>\n",
       "      <td>NaN</td>\n",
       "      <td>NaN</td>\n",
       "      <td>NaN</td>\n",
       "    </tr>\n",
       "    <tr>\n",
       "      <th>3</th>\n",
       "      <td>FreeStyle LibreLink</td>\n",
       "      <td>b59d4499-1a07-462b-b7da-a179f2093996</td>\n",
       "      <td>2019-12-05 17:11:00</td>\n",
       "      <td>0</td>\n",
       "      <td>6.7</td>\n",
       "      <td>NaN</td>\n",
       "      <td>NaN</td>\n",
       "      <td>NaN</td>\n",
       "      <td>NaN</td>\n",
       "      <td>NaN</td>\n",
       "      <td>NaN</td>\n",
       "      <td>NaN</td>\n",
       "      <td>NaN</td>\n",
       "      <td>NaN</td>\n",
       "      <td>NaN</td>\n",
       "      <td>NaN</td>\n",
       "      <td>NaN</td>\n",
       "      <td>NaN</td>\n",
       "      <td>NaN</td>\n",
       "    </tr>\n",
       "    <tr>\n",
       "      <th>4</th>\n",
       "      <td>FreeStyle LibreLink</td>\n",
       "      <td>b59d4499-1a07-462b-b7da-a179f2093996</td>\n",
       "      <td>2019-12-05 17:26:00</td>\n",
       "      <td>0</td>\n",
       "      <td>6.9</td>\n",
       "      <td>NaN</td>\n",
       "      <td>NaN</td>\n",
       "      <td>NaN</td>\n",
       "      <td>NaN</td>\n",
       "      <td>NaN</td>\n",
       "      <td>NaN</td>\n",
       "      <td>NaN</td>\n",
       "      <td>NaN</td>\n",
       "      <td>NaN</td>\n",
       "      <td>NaN</td>\n",
       "      <td>NaN</td>\n",
       "      <td>NaN</td>\n",
       "      <td>NaN</td>\n",
       "      <td>NaN</td>\n",
       "    </tr>\n",
       "  </tbody>\n",
       "</table>\n",
       "</div>"
      ],
      "text/plain": [
       "                Device                         Serial Number  \\\n",
       "0  FreeStyle LibreLink  b59d4499-1a07-462b-b7da-a179f2093996   \n",
       "1  FreeStyle LibreLink  b59d4499-1a07-462b-b7da-a179f2093996   \n",
       "2  FreeStyle LibreLink  b59d4499-1a07-462b-b7da-a179f2093996   \n",
       "3  FreeStyle LibreLink  b59d4499-1a07-462b-b7da-a179f2093996   \n",
       "4  FreeStyle LibreLink  b59d4499-1a07-462b-b7da-a179f2093996   \n",
       "\n",
       "     Device Timestamp  Record Type  Historic Glucose mmol/L  \\\n",
       "0 2019-12-05 16:25:00            0                      6.3   \n",
       "1 2019-12-05 16:41:00            0                      6.4   \n",
       "2 2019-12-05 16:56:00            0                      6.5   \n",
       "3 2019-12-05 17:11:00            0                      6.7   \n",
       "4 2019-12-05 17:26:00            0                      6.9   \n",
       "\n",
       "   Scan Glucose mmol/L  Non-numeric Rapid-Acting Insulin  \\\n",
       "0                  NaN                               NaN   \n",
       "1                  NaN                               NaN   \n",
       "2                  NaN                               NaN   \n",
       "3                  NaN                               NaN   \n",
       "4                  NaN                               NaN   \n",
       "\n",
       "   Rapid-Acting Insulin (units)  Non-numeric Food  Carbohydrates (grams)  \\\n",
       "0                           NaN               NaN                    NaN   \n",
       "1                           NaN               NaN                    NaN   \n",
       "2                           NaN               NaN                    NaN   \n",
       "3                           NaN               NaN                    NaN   \n",
       "4                           NaN               NaN                    NaN   \n",
       "\n",
       "   Carbohydrates (servings)  Non-numeric Long-Acting Insulin  \\\n",
       "0                       NaN                              NaN   \n",
       "1                       NaN                              NaN   \n",
       "2                       NaN                              NaN   \n",
       "3                       NaN                              NaN   \n",
       "4                       NaN                              NaN   \n",
       "\n",
       "   Long-Acting Insulin Value (units) Notes  Strip Glucose mmol/L  \\\n",
       "0                                NaN   NaN                   NaN   \n",
       "1                                NaN   NaN                   NaN   \n",
       "2                                NaN   NaN                   NaN   \n",
       "3                                NaN   NaN                   NaN   \n",
       "4                                NaN   NaN                   NaN   \n",
       "\n",
       "   Ketone mmol/L  Meal Insulin (units)  Correction Insulin (units)  \\\n",
       "0            NaN                   NaN                         NaN   \n",
       "1            NaN                   NaN                         NaN   \n",
       "2            NaN                   NaN                         NaN   \n",
       "3            NaN                   NaN                         NaN   \n",
       "4            NaN                   NaN                         NaN   \n",
       "\n",
       "   User Change Insulin (units)  \n",
       "0                          NaN  \n",
       "1                          NaN  \n",
       "2                          NaN  \n",
       "3                          NaN  \n",
       "4                          NaN  "
      ]
     },
     "execution_count": 6,
     "metadata": {},
     "output_type": "execute_result"
    }
   ],
   "source": [
    "# - Assess which columns contain valuable information and explain their significance.\n",
    "df.head()"
   ]
  },
  {
   "cell_type": "code",
   "execution_count": 7,
   "id": "0724118c",
   "metadata": {},
   "outputs": [
    {
     "name": "stdout",
     "output_type": "stream",
     "text": [
      "<class 'pandas.core.frame.DataFrame'>\n",
      "RangeIndex: 7723 entries, 0 to 7722\n",
      "Data columns (total 9 columns):\n",
      " #   Column                   Non-Null Count  Dtype         \n",
      "---  ------                   --------------  -----         \n",
      " 0   Device                   7723 non-null   object        \n",
      " 1   Serial Number            7723 non-null   object        \n",
      " 2   Device Timestamp         7723 non-null   datetime64[ns]\n",
      " 3   Record Type              7723 non-null   int64         \n",
      " 4   Historic Glucose mmol/L  6068 non-null   float64       \n",
      " 5   Scan Glucose mmol/L      1251 non-null   float64       \n",
      " 6   Non-numeric Food         6 non-null      float64       \n",
      " 7   Carbohydrates (grams)    1 non-null      float64       \n",
      " 8   Notes                    22 non-null     object        \n",
      "dtypes: datetime64[ns](1), float64(4), int64(1), object(3)\n",
      "memory usage: 543.1+ KB\n"
     ]
    }
   ],
   "source": [
    "# - Identify columns with negligible value and articulate reasons for their exclusion from further analysis.\n",
    "df = df.dropna(axis=\"columns\", how=\"all\")\n",
    "df.info()"
   ]
  },
  {
   "cell_type": "code",
   "execution_count": 8,
   "id": "02a8059c",
   "metadata": {},
   "outputs": [],
   "source": [
    "def unique_values_per_column(df: pd.DataFrame):\n",
    "    for column in df.columns:\n",
    "        if df[column].nunique() < 25:\n",
    "            print(f\"'{column}' ({df[column].nunique()}):\\n{df[column].unique()}\\n\")\n",
    "        else:\n",
    "            print(f\"'{column}' ({df[column].nunique()}): (only first 25 values are shown)\\n{df[column].unique()[:25]}\\n\")"
   ]
  },
  {
   "cell_type": "code",
   "execution_count": 9,
   "id": "188d4914",
   "metadata": {},
   "outputs": [
    {
     "name": "stdout",
     "output_type": "stream",
     "text": [
      "'Device' (1):\n",
      "['FreeStyle LibreLink']\n",
      "\n",
      "'Serial Number' (1):\n",
      "['b59d4499-1a07-462b-b7da-a179f2093996']\n",
      "\n",
      "'Device Timestamp' (7248): (only first 25 values are shown)\n",
      "<DatetimeArray>\n",
      "['2019-12-05 16:25:00', '2019-12-05 16:41:00', '2019-12-05 16:56:00',\n",
      " '2019-12-05 17:11:00', '2019-12-05 17:26:00', '2019-12-05 17:41:00',\n",
      " '2019-12-05 17:58:00', '2019-12-05 18:13:00', '2019-12-05 18:28:00',\n",
      " '2019-12-05 18:43:00', '2019-12-05 18:58:00', '2019-12-05 19:13:00',\n",
      " '2019-12-05 19:28:00', '2019-12-05 19:42:00', '2019-12-05 19:57:00',\n",
      " '2019-12-05 20:12:00', '2019-12-05 20:27:00', '2019-12-05 20:42:00',\n",
      " '2019-12-05 20:57:00', '2019-12-05 21:13:00', '2019-12-05 21:29:00',\n",
      " '2019-12-05 21:44:00', '2019-12-05 21:59:00', '2019-12-05 22:14:00',\n",
      " '2019-12-05 22:29:00']\n",
      "Length: 25, dtype: datetime64[ns]\n",
      "\n",
      "'Record Type' (4):\n",
      "[0 1 5 6]\n",
      "\n",
      "'Historic Glucose mmol/L' (82): (only first 25 values are shown)\n",
      "[6.3 6.4 6.5 6.7 6.9 7.1 7.2 6.8 7.6 7.5 7.3 7.  6.6 6.  5.4 5.2 5.3 5.\n",
      " 4.7 4.8 4.9 5.1 4.5 5.5 4.6]\n",
      "\n",
      "'Scan Glucose mmol/L' (77): (only first 25 values are shown)\n",
      "[nan 6.3 6.4 6.6 7.3 6.9 7.7 7.  4.9 5.8 4.3 4.4 5.2 5.1 4.6 4.5 4.8 5.\n",
      " 4.2 3.8 4.1 5.3 6.2 5.9 6.5]\n",
      "\n",
      "'Non-numeric Food' (1):\n",
      "[nan  1.]\n",
      "\n",
      "'Carbohydrates (grams)' (1):\n",
      "[nan  2.]\n",
      "\n",
      "'Notes' (16):\n",
      "[nan 'Blood 78mg/dl (4.3mmol/l)' 'Actual 74mg/dl 2.5 ket mmol/l  '\n",
      " 'MacCocoMCT' 'Macacocoleftover' 'Afterfood' 'After' 'Night' 'goodmorning'\n",
      " 'Handstands+kettlebells' 'Exercise' 'Park' '92' 'Breakfast' '90' 'Whey'\n",
      " '85']\n",
      "\n"
     ]
    }
   ],
   "source": [
    "unique_values_per_column(df)\n",
    "    "
   ]
  },
  {
   "cell_type": "code",
   "execution_count": 36,
   "id": "ed154af5",
   "metadata": {},
   "outputs": [
    {
     "data": {
      "text/plain": [
       "Index(['Device', 'Serial Number', 'Device Timestamp', 'Record Type',\n",
       "       'Historic Glucose mmol/L', 'Scan Glucose mmol/L', 'Non-numeric Food',\n",
       "       'Carbohydrates (grams)', 'Notes'],\n",
       "      dtype='object')"
      ]
     },
     "execution_count": 36,
     "metadata": {},
     "output_type": "execute_result"
    }
   ],
   "source": [
    "df.columns"
   ]
  },
  {
   "cell_type": "code",
   "execution_count": 12,
   "id": "f0871b14",
   "metadata": {},
   "outputs": [
    {
     "name": "stdout",
     "output_type": "stream",
     "text": [
      "<class 'pandas.core.frame.DataFrame'>\n",
      "RangeIndex: 7723 entries, 0 to 7722\n",
      "Data columns (total 6 columns):\n",
      " #   Column                   Non-Null Count  Dtype         \n",
      "---  ------                   --------------  -----         \n",
      " 0   Device Timestamp         7723 non-null   datetime64[ns]\n",
      " 1   Record Type              7723 non-null   int64         \n",
      " 2   Historic Glucose mmol/L  6068 non-null   float64       \n",
      " 3   Scan Glucose mmol/L      1251 non-null   float64       \n",
      " 4   Non-numeric Food         6 non-null      float64       \n",
      " 5   Notes                    22 non-null     object        \n",
      "dtypes: datetime64[ns](1), float64(3), int64(1), object(1)\n",
      "memory usage: 362.1+ KB\n"
     ]
    }
   ],
   "source": [
    "# Columns that do not provide useful information:\n",
    "# Device and Serial Number always contain the same value\n",
    "# Carbo.. was used just once.\n",
    "drop_columns = [\"Device\", \"Serial Number\", \"Carbohydrates (grams)\"]\n",
    "df = df.drop(columns= drop_columns)\n",
    "df.info()"
   ]
  },
  {
   "cell_type": "code",
   "execution_count": 18,
   "id": "30042a9e",
   "metadata": {},
   "outputs": [
    {
     "name": "stdout",
     "output_type": "stream",
     "text": [
      "Number of duplicates: 475\n"
     ]
    }
   ],
   "source": [
    "# - Investigate the presence of duplicate records and determine potential reasons for duplication.\n",
    "print(f\"Number of duplicates: {df.shape[0] - df['Device Timestamp'].nunique()}\")"
   ]
  },
  {
   "cell_type": "code",
   "execution_count": 24,
   "id": "6d603385",
   "metadata": {},
   "outputs": [
    {
     "name": "stdout",
     "output_type": "stream",
     "text": [
      "<class 'pandas.core.frame.DataFrame'>\n",
      "Index: 475 entries, 6069 to 7722\n",
      "Data columns (total 6 columns):\n",
      " #   Column                   Non-Null Count  Dtype         \n",
      "---  ------                   --------------  -----         \n",
      " 0   Device Timestamp         475 non-null    datetime64[ns]\n",
      " 1   Record Type              475 non-null    int64         \n",
      " 2   Historic Glucose mmol/L  0 non-null      float64       \n",
      " 3   Scan Glucose mmol/L      89 non-null     float64       \n",
      " 4   Non-numeric Food         6 non-null      float64       \n",
      " 5   Notes                    22 non-null     object        \n",
      "dtypes: datetime64[ns](1), float64(3), int64(1), object(1)\n",
      "memory usage: 26.0+ KB\n"
     ]
    }
   ],
   "source": [
    "df[df.duplicated(subset= \"Device Timestamp\")].info()"
   ]
  },
  {
   "cell_type": "code",
   "execution_count": 23,
   "id": "a8bf4842",
   "metadata": {},
   "outputs": [
    {
     "data": {
      "text/html": [
       "<div>\n",
       "<style scoped>\n",
       "    .dataframe tbody tr th:only-of-type {\n",
       "        vertical-align: middle;\n",
       "    }\n",
       "\n",
       "    .dataframe tbody tr th {\n",
       "        vertical-align: top;\n",
       "    }\n",
       "\n",
       "    .dataframe thead th {\n",
       "        text-align: right;\n",
       "    }\n",
       "</style>\n",
       "<table border=\"1\" class=\"dataframe\">\n",
       "  <thead>\n",
       "    <tr style=\"text-align: right;\">\n",
       "      <th></th>\n",
       "      <th>Device Timestamp</th>\n",
       "      <th>Record Type</th>\n",
       "      <th>Historic Glucose mmol/L</th>\n",
       "      <th>Scan Glucose mmol/L</th>\n",
       "      <th>Non-numeric Food</th>\n",
       "      <th>Notes</th>\n",
       "    </tr>\n",
       "  </thead>\n",
       "  <tbody>\n",
       "    <tr>\n",
       "      <th>7297</th>\n",
       "      <td>2020-06-01 09:34:00</td>\n",
       "      <td>1</td>\n",
       "      <td>NaN</td>\n",
       "      <td>4.9</td>\n",
       "      <td>NaN</td>\n",
       "      <td>NaN</td>\n",
       "    </tr>\n",
       "    <tr>\n",
       "      <th>7718</th>\n",
       "      <td>2020-06-01 09:34:00</td>\n",
       "      <td>6</td>\n",
       "      <td>NaN</td>\n",
       "      <td>NaN</td>\n",
       "      <td>NaN</td>\n",
       "      <td>NaN</td>\n",
       "    </tr>\n",
       "    <tr>\n",
       "      <th>7719</th>\n",
       "      <td>2020-06-01 09:34:00</td>\n",
       "      <td>6</td>\n",
       "      <td>NaN</td>\n",
       "      <td>NaN</td>\n",
       "      <td>NaN</td>\n",
       "      <td>NaN</td>\n",
       "    </tr>\n",
       "  </tbody>\n",
       "</table>\n",
       "</div>"
      ],
      "text/plain": [
       "        Device Timestamp  Record Type  Historic Glucose mmol/L  \\\n",
       "7297 2020-06-01 09:34:00            1                      NaN   \n",
       "7718 2020-06-01 09:34:00            6                      NaN   \n",
       "7719 2020-06-01 09:34:00            6                      NaN   \n",
       "\n",
       "      Scan Glucose mmol/L  Non-numeric Food Notes  \n",
       "7297                  4.9               NaN   NaN  \n",
       "7718                  NaN               NaN   NaN  \n",
       "7719                  NaN               NaN   NaN  "
      ]
     },
     "execution_count": 23,
     "metadata": {},
     "output_type": "execute_result"
    }
   ],
   "source": [
    "df[df[\"Device Timestamp\"] == '2020-06-01 09:34:00']\n",
    "# Multiple record types are made at a certain time point.\n",
    "# They need to be kept, since the contain information that \n",
    "# the 'original' does not contain."
   ]
  },
  {
   "cell_type": "markdown",
   "id": "2592ca28",
   "metadata": {},
   "source": [
    "    0: automatic glucose value register, saved each 15 minutes by the device.\n",
    "    1: manual blood glucose value register, saved in the record after a read by the patient (for calibration purpose)\n",
    "    2: register of insulin without a numeric value.\n",
    "    3: register of carbohydrates without a numeric value.\n",
    "    4: register of insulin done with a numeric value.\n",
    "    5: register of carbohydrates with a numeric value.\n",
    "    6: error?"
   ]
  },
  {
   "cell_type": "code",
   "execution_count": null,
   "id": "fa08ee4f",
   "metadata": {},
   "outputs": [],
   "source": [
    "# - Inspect differences between calibration measures and sensor data \n",
    "# (difference and frequency of measurements)"
   ]
  },
  {
   "cell_type": "code",
   "execution_count": 34,
   "id": "ca0d0b99",
   "metadata": {},
   "outputs": [
    {
     "name": "stdout",
     "output_type": "stream",
     "text": [
      "<class 'pandas.core.frame.DataFrame'>\n",
      "Index: 1251 entries, 6068 to 7318\n",
      "Data columns (total 6 columns):\n",
      " #   Column                   Non-Null Count  Dtype         \n",
      "---  ------                   --------------  -----         \n",
      " 0   Device Timestamp         1251 non-null   datetime64[ns]\n",
      " 1   Record Type              1251 non-null   int64         \n",
      " 2   Historic Glucose mmol/L  0 non-null      float64       \n",
      " 3   Scan Glucose mmol/L      1251 non-null   float64       \n",
      " 4   Non-numeric Food         0 non-null      float64       \n",
      " 5   Notes                    0 non-null      object        \n",
      "dtypes: datetime64[ns](1), float64(3), int64(1), object(1)\n",
      "memory usage: 68.4+ KB\n"
     ]
    }
   ],
   "source": [
    "df[df[\"Record Type\"] == 1].info()"
   ]
  },
  {
   "cell_type": "code",
   "execution_count": 35,
   "id": "ab8291df",
   "metadata": {},
   "outputs": [
    {
     "name": "stdout",
     "output_type": "stream",
     "text": [
      "<class 'pandas.core.frame.DataFrame'>\n",
      "Index: 6068 entries, 0 to 6067\n",
      "Data columns (total 6 columns):\n",
      " #   Column                   Non-Null Count  Dtype         \n",
      "---  ------                   --------------  -----         \n",
      " 0   Device Timestamp         6068 non-null   datetime64[ns]\n",
      " 1   Record Type              6068 non-null   int64         \n",
      " 2   Historic Glucose mmol/L  6068 non-null   float64       \n",
      " 3   Scan Glucose mmol/L      0 non-null      float64       \n",
      " 4   Non-numeric Food         0 non-null      float64       \n",
      " 5   Notes                    0 non-null      object        \n",
      "dtypes: datetime64[ns](1), float64(3), int64(1), object(1)\n",
      "memory usage: 331.8+ KB\n"
     ]
    }
   ],
   "source": [
    "df[df[\"Record Type\"] == 0].info()"
   ]
  },
  {
   "cell_type": "code",
   "execution_count": 48,
   "id": "b7f6cc43",
   "metadata": {},
   "outputs": [
    {
     "name": "stdout",
     "output_type": "stream",
     "text": [
      "Frequency sensor:      0 days 00:42:45.850362557\n",
      "Frequency calibration: 0 days 03:27:25.707434052\n"
     ]
    }
   ],
   "source": [
    "# find frequency\n",
    "delta = df[\"Device Timestamp\"].max() - df[\"Device Timestamp\"].min()\n",
    "n_cali = df[df[\"Record Type\"] == 1].shape[0]\n",
    "n_sens = df[df[\"Record Type\"] == 0].shape[0]\n",
    "\n",
    "\n",
    "print(f\"Frequency sensor:      {delta / n_sens}\")\n",
    "print(f\"Frequency calibration: {delta / n_cali}\")"
   ]
  },
  {
   "cell_type": "markdown",
   "id": "ff8b25e2",
   "metadata": {},
   "source": [
    "- Sensor data (record type = 0) contains no duplicate records. Calibration measurements (record type = 1) does.\n",
    "- Sensor has 6068 records, calibration has 1251 records."
   ]
  },
  {
   "cell_type": "code",
   "execution_count": 68,
   "id": "fc658d7e",
   "metadata": {},
   "outputs": [
    {
     "name": "stdout",
     "output_type": "stream",
     "text": [
      "<class 'pandas.core.frame.DataFrame'>\n",
      "RangeIndex: 7723 entries, 0 to 7722\n",
      "Data columns (total 6 columns):\n",
      " #   Column                   Non-Null Count  Dtype         \n",
      "---  ------                   --------------  -----         \n",
      " 0   Device Timestamp         7723 non-null   datetime64[ns]\n",
      " 1   Record Type              7723 non-null   int64         \n",
      " 2   Historic Glucose mmol/L  6068 non-null   float64       \n",
      " 3   Scan Glucose mmol/L      1251 non-null   float64       \n",
      " 4   Non-numeric Food         6 non-null      float64       \n",
      " 5   Notes                    22 non-null     object        \n",
      "dtypes: datetime64[ns](1), float64(3), int64(1), object(1)\n",
      "memory usage: 362.1+ KB\n"
     ]
    }
   ],
   "source": [
    "# - Calculate the percentage of missing data for each feature.\n",
    "df.info()"
   ]
  },
  {
   "cell_type": "code",
   "execution_count": null,
   "id": "0fd59b02",
   "metadata": {},
   "outputs": [],
   "source": [
    "[df[col].isna().sum() / df.shape[0] *100 for col in df.columns]"
   ]
  },
  {
   "cell_type": "code",
   "execution_count": 82,
   "id": "09da0fd4",
   "metadata": {},
   "outputs": [
    {
     "name": "stdout",
     "output_type": "stream",
     "text": [
      "Percentage missing data:\n",
      "Index(['Device Timestamp', 'Record Type', 'Historic Glucose mmol/L',\n",
      "       'Scan Glucose mmol/L', 'Non-numeric Food', 'Notes'],\n",
      "      dtype='object')\n",
      "[np.float64(0.0), np.float64(0.0), np.float64(21.4294963097242), np.float64(83.80163149035349), np.float64(99.92230998316717), np.float64(99.71513660494627)]\n"
     ]
    }
   ],
   "source": [
    "\n",
    "print(f\"Percentage missing data:\\n{df.columns}\\n{[df[col].isna().sum() / df.shape[0] *100 for col in df.columns]}\")    "
   ]
  },
  {
   "cell_type": "markdown",
   "id": "7cb2e323",
   "metadata": {},
   "source": [
    "Did not does:\n",
    "- Explore possibilities for imputing missing data, if feasible.\n",
    "- Check for any time gaps in the dataset that may affect the temporal continuity."
   ]
  },
  {
   "cell_type": "code",
   "execution_count": 57,
   "id": "ade183b7",
   "metadata": {},
   "outputs": [
    {
     "data": {
      "text/html": [
       "<div>\n",
       "<style scoped>\n",
       "    .dataframe tbody tr th:only-of-type {\n",
       "        vertical-align: middle;\n",
       "    }\n",
       "\n",
       "    .dataframe tbody tr th {\n",
       "        vertical-align: top;\n",
       "    }\n",
       "\n",
       "    .dataframe thead th {\n",
       "        text-align: right;\n",
       "    }\n",
       "</style>\n",
       "<table border=\"1\" class=\"dataframe\">\n",
       "  <thead>\n",
       "    <tr style=\"text-align: right;\">\n",
       "      <th></th>\n",
       "      <th>Record Type</th>\n",
       "      <th>Historic Glucose mmol/L</th>\n",
       "      <th>Scan Glucose mmol/L</th>\n",
       "      <th>Non-numeric Food</th>\n",
       "      <th>Notes</th>\n",
       "    </tr>\n",
       "    <tr>\n",
       "      <th>Device Timestamp</th>\n",
       "      <th></th>\n",
       "      <th></th>\n",
       "      <th></th>\n",
       "      <th></th>\n",
       "      <th></th>\n",
       "    </tr>\n",
       "  </thead>\n",
       "  <tbody>\n",
       "    <tr>\n",
       "      <th>2019-12-05 16:25:00</th>\n",
       "      <td>0</td>\n",
       "      <td>6.3</td>\n",
       "      <td>NaN</td>\n",
       "      <td>NaN</td>\n",
       "      <td>NaN</td>\n",
       "    </tr>\n",
       "    <tr>\n",
       "      <th>2019-12-05 16:41:00</th>\n",
       "      <td>0</td>\n",
       "      <td>6.4</td>\n",
       "      <td>NaN</td>\n",
       "      <td>NaN</td>\n",
       "      <td>NaN</td>\n",
       "    </tr>\n",
       "    <tr>\n",
       "      <th>2019-12-05 16:56:00</th>\n",
       "      <td>0</td>\n",
       "      <td>6.5</td>\n",
       "      <td>NaN</td>\n",
       "      <td>NaN</td>\n",
       "      <td>NaN</td>\n",
       "    </tr>\n",
       "    <tr>\n",
       "      <th>2019-12-05 17:11:00</th>\n",
       "      <td>0</td>\n",
       "      <td>6.7</td>\n",
       "      <td>NaN</td>\n",
       "      <td>NaN</td>\n",
       "      <td>NaN</td>\n",
       "    </tr>\n",
       "    <tr>\n",
       "      <th>2019-12-05 17:26:00</th>\n",
       "      <td>0</td>\n",
       "      <td>6.9</td>\n",
       "      <td>NaN</td>\n",
       "      <td>NaN</td>\n",
       "      <td>NaN</td>\n",
       "    </tr>\n",
       "    <tr>\n",
       "      <th>...</th>\n",
       "      <td>...</td>\n",
       "      <td>...</td>\n",
       "      <td>...</td>\n",
       "      <td>...</td>\n",
       "      <td>...</td>\n",
       "    </tr>\n",
       "    <tr>\n",
       "      <th>2020-06-01 09:34:00</th>\n",
       "      <td>6</td>\n",
       "      <td>NaN</td>\n",
       "      <td>NaN</td>\n",
       "      <td>NaN</td>\n",
       "      <td>NaN</td>\n",
       "    </tr>\n",
       "    <tr>\n",
       "      <th>2020-06-01 09:34:00</th>\n",
       "      <td>6</td>\n",
       "      <td>NaN</td>\n",
       "      <td>NaN</td>\n",
       "      <td>NaN</td>\n",
       "      <td>NaN</td>\n",
       "    </tr>\n",
       "    <tr>\n",
       "      <th>2020-06-01 16:40:00</th>\n",
       "      <td>6</td>\n",
       "      <td>NaN</td>\n",
       "      <td>NaN</td>\n",
       "      <td>NaN</td>\n",
       "      <td>NaN</td>\n",
       "    </tr>\n",
       "    <tr>\n",
       "      <th>2020-06-01 22:15:00</th>\n",
       "      <td>6</td>\n",
       "      <td>NaN</td>\n",
       "      <td>NaN</td>\n",
       "      <td>NaN</td>\n",
       "      <td>NaN</td>\n",
       "    </tr>\n",
       "    <tr>\n",
       "      <th>2020-06-02 13:24:00</th>\n",
       "      <td>6</td>\n",
       "      <td>NaN</td>\n",
       "      <td>NaN</td>\n",
       "      <td>NaN</td>\n",
       "      <td>NaN</td>\n",
       "    </tr>\n",
       "  </tbody>\n",
       "</table>\n",
       "<p>7723 rows × 5 columns</p>\n",
       "</div>"
      ],
      "text/plain": [
       "                     Record Type  Historic Glucose mmol/L  \\\n",
       "Device Timestamp                                            \n",
       "2019-12-05 16:25:00            0                      6.3   \n",
       "2019-12-05 16:41:00            0                      6.4   \n",
       "2019-12-05 16:56:00            0                      6.5   \n",
       "2019-12-05 17:11:00            0                      6.7   \n",
       "2019-12-05 17:26:00            0                      6.9   \n",
       "...                          ...                      ...   \n",
       "2020-06-01 09:34:00            6                      NaN   \n",
       "2020-06-01 09:34:00            6                      NaN   \n",
       "2020-06-01 16:40:00            6                      NaN   \n",
       "2020-06-01 22:15:00            6                      NaN   \n",
       "2020-06-02 13:24:00            6                      NaN   \n",
       "\n",
       "                     Scan Glucose mmol/L  Non-numeric Food Notes  \n",
       "Device Timestamp                                                  \n",
       "2019-12-05 16:25:00                  NaN               NaN   NaN  \n",
       "2019-12-05 16:41:00                  NaN               NaN   NaN  \n",
       "2019-12-05 16:56:00                  NaN               NaN   NaN  \n",
       "2019-12-05 17:11:00                  NaN               NaN   NaN  \n",
       "2019-12-05 17:26:00                  NaN               NaN   NaN  \n",
       "...                                  ...               ...   ...  \n",
       "2020-06-01 09:34:00                  NaN               NaN   NaN  \n",
       "2020-06-01 09:34:00                  NaN               NaN   NaN  \n",
       "2020-06-01 16:40:00                  NaN               NaN   NaN  \n",
       "2020-06-01 22:15:00                  NaN               NaN   NaN  \n",
       "2020-06-02 13:24:00                  NaN               NaN   NaN  \n",
       "\n",
       "[7723 rows x 5 columns]"
      ]
     },
     "execution_count": 57,
     "metadata": {},
     "output_type": "execute_result"
    }
   ],
   "source": [
    "df_plot = df.set_index(\"Device Timestamp\")\n",
    "df_plot"
   ]
  },
  {
   "cell_type": "code",
   "execution_count": 67,
   "id": "d2421da4",
   "metadata": {},
   "outputs": [
    {
     "data": {
      "image/png": "[encoded data removed]",
      "text/plain": [
       "<Figure size 640x480 with 1 Axes>"
      ]
     },
     "metadata": {},
     "output_type": "display_data"
    }
   ],
   "source": [
    "plt.plot(df_plot.loc[df_plot[\"Record Type\"] == 0, \"Historic Glucose mmol/L\"], \".-\", alpha=0.2)\n",
    "plt.plot(df_plot.loc[df_plot[\"Record Type\"] == 1, \"Scan Glucose mmol/L\"], \".-\", alpha=0.2)\n",
    "plt.show()"
   ]
  },
  {
   "cell_type": "code",
   "execution_count": null,
   "id": "3422c62b",
   "metadata": {},
   "outputs": [],
   "source": []
  },
  {
   "cell_type": "markdown",
   "id": "3477cbc7-0aef-42d9-9062-0acc237c40db",
   "metadata": {},
   "source": [
    "---"
   ]
  },
  {
   "cell_type": "markdown",
   "id": "979bcbc5-e082-4b93-9c9f-ed7ec1c2659c",
   "metadata": {},
   "source": [
    "## Part 2 (week 2): Exploring Glucose Time-Series Data\n",
    "\n",
    "Peak detection in glucose time-series data is crucial for recognizing spikes in blood glucose levels, offering insights into the body's responses to events like meals or stress. This analysis supports patients and healthcare providers to make informed decisions about blood glucose management. In this second part, we delve deeper into data exploration, leveraging smoothing and decomposition algorithms to uncover valuable patterns. The steps of the time-of-day analysis is mandatory, but you are free to choose additional explorations. A good approach is to create functions, it will be easier to re-run certain analysis and explore effect of chosen strategies. \n",
    "\n",
    "### Smoothing and Decomposition Algorithms\n",
    "Utilizing smoothing algorithms becomes essential for peak detection, particularly when raw data exhibits fluctuations or short-term variations that might obscure significant patterns. Decomposition further enhances this process by isolating long-term trends from short-term fluctuations, aiding in the identification of peaks within the overall trend component.\n",
    "\n",
    "### Analysis\n",
    "- Determine when glucose levels typically reach their highest and lowest points during the day. Identify potential risks; points ≤50 mg/dL to emphasize occurrence of extreme hypoglycemia and points >300 mg/dL to emphasize occurrence of extreme hyperglycemia.\n",
    "- Explore differences in glucose levels across various hours of the day. Investigate the duration between consecutive peaks to understand patterns in glucose level fluctuations\n",
    "- Stratify the analysis based on weekdays and weekends to capture potential variations.\n",
    "- Calculate meaningful statistics such as % time spent within target range of 70–180 mg/dL, below 70 mg/dL, and above 180 mg/dL (for more inspiration see [2])\n",
    "- Calculate low glucose events. This is defined as when the sensor glucose reading is lower than 70 mg/dL for longer than 15 minutes\n",
    "- Determine if there is a trend\n",
    "\n",
    "\n",
    "### Documentation\n",
    "- Document all decisions made during the explorations, providing transparency and aiding reproducibility. Reflect on the outcomes using captions when appropiate. Deliver your solution in a repository with a readme file. \n",
    "\n",
    "### Challenges \n",
    "In this study case there are several advanced topics you could consider to implement:\n",
    "- An interactive Bokeh plot to dynamically examine the impact of different smoothing algorithms.\n",
    "- An parser object (or set of objects) loading and preprocess the glucose data.\n",
    "\n",
    "\n",
    "[2] Clarke W, Kovatchev B. Statistical tools to analyze continuous glucose monitor data. Diabetes Technol Ther. 2009 Jun;11 Suppl 1(Suppl 1):S45-54. doi: 10.1089/dia.2008.0138. PMID: 19469677; PMCID: PMC2903980.\n"
   ]
  }
 ],
 "metadata": {
  "kernelspec": {
   "display_name": "Python 3",
   "language": "python",
   "name": "python3"
  },
  "language_info": {
   "codemirror_mode": {
    "name": "ipython",
    "version": 3
   },
   "file_extension": ".py",
   "mimetype": "text/x-python",
   "name": "python",
   "nbconvert_exporter": "python",
   "pygments_lexer": "ipython3",
   "version": "3.10.8"
  }
 },
 "nbformat": 4,
 "nbformat_minor": 5
}
