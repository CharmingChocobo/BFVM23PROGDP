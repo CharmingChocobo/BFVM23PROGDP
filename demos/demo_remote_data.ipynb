{
 "cells": [
  {
   "cell_type": "markdown",
   "metadata": {},
   "source": [
    "## Demo 1: Polling\n",
    "\n",
    "In the following example, we use `request` to request json from a webserver. We check whether the requests has succeeded (`response.status_code==200`) and print the result."
   ]
  },
  {
   "cell_type": "code",
   "execution_count": null,
   "metadata": {},
   "outputs": [],
   "source": [
    "import requests\n",
    "\n",
    "# Send a GET request to the desired API URL\n",
    "response = requests.get('https://jsonplaceholder.typicode.com/posts')\n",
    "\n",
    "# If everything went well, parse the response\n",
    "# and print it\n",
    "if response.status_code == 200:\n",
    "    data = response.json()\n",
    "    print(data)\n",
    "else:\n",
    "    # Print an error message\n",
    "    print('Error fetching data')"
   ]
  },
  {
   "cell_type": "markdown",
   "metadata": {},
   "source": [
    "## Demo2: using websockets\n",
    "\n",
    "In the following, we use the `websocket`-package in order to connect to a given websocket. In this directory, you can find [a simple echo-server](ws-server.py) that just echoes all the messages that are send to it. Study its contents to get an idea of how it works. Run it by opening a terminal to this directory and enter `python ws-server.py` (just ignore the deprecation warnings you will see and make sure you installed the dependecies that are availaible in `requirements.txt`).\n",
    "\n",
    "In the next cell, we send a message to this server."
   ]
  },
  {
   "cell_type": "code",
   "execution_count": 3,
   "metadata": {},
   "outputs": [
    {
     "name": "stdout",
     "output_type": "stream",
     "text": [
      "Connected to WebSocket server\n",
      "Sent message: Hello, WebSocket!\n",
      "Received message: Hello, WebSocket!\n"
     ]
    },
    {
     "data": {
      "text/plain": [
       "True"
      ]
     },
     "execution_count": 3,
     "metadata": {},
     "output_type": "execute_result"
    }
   ],
   "source": [
    "import websocket\n",
    "\n",
    "# WebSocket server URL\n",
    "ws_url = \"ws://localhost:8765\"\n",
    "\n",
    "# Message to send\n",
    "message = \"Hello, WebSocket!\"\n",
    "\n",
    "# Function to handle WebSocket open\n",
    "def on_open(ws):\n",
    "    print(\"Connected to WebSocket server\")\n",
    "    # Send the message\n",
    "    ws.send(message)\n",
    "    print(\"Sent message:\", message)\n",
    "\n",
    "# Function to handle received message\n",
    "def on_message(ws, message):\n",
    "    print(\"Received message:\", message)\n",
    "\n",
    "# Function to handle WebSocket close\n",
    "def on_close(ws):\n",
    "    print(\"Connection to WebSocket server closed\")\n",
    "\n",
    "# Create WebSocket connection\n",
    "ws = websocket.WebSocketApp(ws_url,\n",
    "                            on_message=on_message,\n",
    "                            on_open=on_open,\n",
    "                            on_close=on_close)\n",
    "\n",
    "# Run WebSocket connection\n",
    "ws.run_forever()\n"
   ]
  },
  {
   "cell_type": "code",
   "execution_count": null,
   "metadata": {},
   "outputs": [],
   "source": []
  }
 ],
 "metadata": {
  "kernelspec": {
   "display_name": "programming3",
   "language": "python",
   "name": "python3"
  },
  "language_info": {
   "codemirror_mode": {
    "name": "ipython",
    "version": 3
   },
   "file_extension": ".py",
   "mimetype": "text/x-python",
   "name": "python",
   "nbconvert_exporter": "python",
   "pygments_lexer": "ipython3",
   "version": "3.10.1"
  }
 },
 "nbformat": 4,
 "nbformat_minor": 2
}
