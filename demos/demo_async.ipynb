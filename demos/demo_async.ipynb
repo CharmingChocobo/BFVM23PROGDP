{
 "cells": [
  {
   "cell_type": "markdown",
   "metadata": {},
   "source": [
    "# 1. functions as parameters"
   ]
  },
  {
   "cell_type": "code",
   "execution_count": null,
   "metadata": {},
   "outputs": [],
   "source": [
    "def demo_functions_parameters(vals, cb):\n",
    "    return [cb(x) for x in vals]\n",
    "\n",
    "l = [2,3,5,7,11,13]\n",
    "print(demo_functions_parameters(l, lambda x: x**2))\n",
    "print(demo_functions_parameters(l, lambda x: x**3))"
   ]
  },
  {
   "cell_type": "code",
   "execution_count": null,
   "metadata": {},
   "outputs": [],
   "source": [
    "import math\n",
    "\n",
    "def demo_function(x):\n",
    "    return math.sqrt(x)\n",
    "\n",
    "print(demo_functions_parameters(l, demo_function))"
   ]
  },
  {
   "cell_type": "markdown",
   "metadata": {},
   "source": [
    "## 2. Generators\n",
    "\n",
    "Generators in Python are functions that produce a sequence of values lazily, allowing for efficient memory usage and on-the-fly generation of values. The interesting thing about generators is that they can exit while keeping their state..."
   ]
  },
  {
   "cell_type": "code",
   "execution_count": null,
   "metadata": {},
   "outputs": [],
   "source": [
    "def get_id():\n",
    "    ctr = 1\n",
    "    while True:\n",
    "        yield ctr\n",
    "        ctr += 1\n",
    "\n",
    "id_generator = get_id()\n",
    "for i in range(10):\n",
    "    id = next(id_generator)\n",
    "    print(f'User with id {id}')"
   ]
  },
  {
   "cell_type": "markdown",
   "metadata": {},
   "source": [
    "# 3. asyncio"
   ]
  },
  {
   "cell_type": "code",
   "execution_count": null,
   "metadata": {},
   "outputs": [],
   "source": [
    "import asyncio\n",
    "\n",
    "async def f_one():\n",
    "    print(\"Hello\")\n",
    "    await asyncio.sleep(1)\n",
    "    print(\"World!\")\n",
    "\n",
    "async def f_two():\n",
    "    print(\"One\")\n",
    "    await asyncio.sleep(0.5)\n",
    "    print(\"Two\")\n",
    "    await asyncio.sleep(0.5)\n",
    "    print(\"Three\")\n",
    "\n",
    "async def main():\n",
    "    await asyncio.gather(f_one(), f_two())\n",
    "\n",
    "async def run_main():\n",
    "    await main()\n",
    "\n",
    "await run_main()\n"
   ]
  },
  {
   "cell_type": "markdown",
   "metadata": {},
   "source": [
    "# 4. Event driven programming\n",
    "\n",
    "In Python, while there's no built-in concept of events like in JavaScript, you can implement a similar pattern using classes and callbacks. You can create your own event system by defining a class to represent an event and allowing other parts of your code to subscribe to or listen for these events."
   ]
  },
  {
   "cell_type": "code",
   "execution_count": null,
   "metadata": {},
   "outputs": [],
   "source": [
    "class Event:\n",
    "    def __init__(self):\n",
    "        self.handlers = []\n",
    "\n",
    "    def add_handler(self, handler):\n",
    "        self.handlers.append(handler)\n",
    "\n",
    "    def remove_handler(self, handler):\n",
    "        self.handlers.remove(handler)\n",
    "\n",
    "    def fire(self, *args, **kwargs):\n",
    "        for handler in self.handlers:\n",
    "            handler(*args, **kwargs)\n",
    "\n",
    "def on_event_fired(data):\n",
    "    print(f\"Event fired with data: {data}\")\n",
    "\n",
    "custom_event = Event()\n",
    "custom_event.add_handler(on_event_fired)\n",
    "custom_event.fire(\"Demonstration data\")\n",
    "\n",
    "custom_event.remove_handler(on_event_fired)\n"
   ]
  },
  {
   "cell_type": "markdown",
   "metadata": {},
   "source": [
    "# 5. Multithreading\n",
    "\n",
    "Multithreading is a programming technique that allows multiple threads to execute concurrently within a single process, enabling applications to perform multiple tasks simultaneously and improve responsiveness by utilizing the available CPU resources more efficiently."
   ]
  },
  {
   "cell_type": "code",
   "execution_count": null,
   "metadata": {},
   "outputs": [],
   "source": [
    "import threading\n",
    "import time\n",
    "\n",
    "def print_numbers():\n",
    "    for i in range(5):\n",
    "        print(i)\n",
    "        time.sleep(1)\n",
    "\n",
    "def print_letters():\n",
    "    for letter in 'abcde':\n",
    "        print(letter)\n",
    "        time.sleep(1)\n",
    "\n",
    "# Create two threads\n",
    "thread1 = threading.Thread(target=print_numbers)\n",
    "thread2 = threading.Thread(target=print_letters)\n",
    "\n",
    "# Start the threads\n",
    "thread1.start()\n",
    "thread2.start()\n",
    "\n",
    "# Wait for both threads to finish\n",
    "thread1.join()\n",
    "thread2.join()\n",
    "\n",
    "print(\"Both threads have finished.\")\n"
   ]
  }
 ],
 "metadata": {
  "kernelspec": {
   "display_name": "programming3",
   "language": "python",
   "name": "python3"
  },
  "language_info": {
   "codemirror_mode": {
    "name": "ipython",
    "version": 3
   },
   "file_extension": ".py",
   "mimetype": "text/x-python",
   "name": "python",
   "nbconvert_exporter": "python",
   "pygments_lexer": "ipython3",
   "version": "3.10.1"
  }
 },
 "nbformat": 4,
 "nbformat_minor": 2
}
